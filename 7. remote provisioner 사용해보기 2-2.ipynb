{
 "cells": [
  {
   "cell_type": "markdown",
   "metadata": {},
   "source": [
    "#### # connection 과 remote-exec 이용한 예시"
   ]
  },
  {
   "cell_type": "markdown",
   "metadata": {},
   "source": [
    "#### step1) 디렉토리 생성 및 이동\n",
    "\n",
    "$ mkdir -p ~/python3/provisioning/08_remote_provisioner_2\n",
    "\n",
    "$ cd ~/python3/provisioning/08_remote_provisioner_2"
   ]
  },
  {
   "cell_type": "markdown",
   "metadata": {},
   "source": [
    "#### step2) main.tf 생성\n",
    "\n",
    "- dss_key 키페어와 security_dss 보안그룹이 생성되어 있는 상태에서 실행한다.\n",
    "\n",
    "provider \"aws\" {\n",
    "\n",
    "region = \"ap-northeast-2\"\n",
    "\n",
    "}\n",
    "\n",
    "data \"aws_security_group\" \"security_dss\" {\n",
    "\n",
    "name = \"security_dss\"\n",
    "\n",
    "}\n",
    "\n",
    "resource \"aws_instance\" \"remote_provisioner_2\" {\n",
    "\n",
    "ami = \"ami-06e7b9c5e0c4dd014\"\n",
    "\n",
    "instance_type = \"t2.nano\"\n",
    "\n",
    "key_name = \"dss_key\"\n",
    "\n",
    "vpc_security_group_ids = [\n",
    "\n",
    "\"${data.aws_security_group.security_dss.id}\"\n",
    "\n",
    "]\n",
    "\n",
    "connection {\n",
    "\n",
    "user = \"ubuntu\"\n",
    "\n",
    "type = \"ssh\"\n",
    "\n",
    "private_key = \"${file(\"~/.ssh/dss_key\")}\"\n",
    "\n",
    "timeout = \"1m\"\n",
    "\n",
    "}\n",
    "\n",
    "provisioner \"remote-exec\" {\n",
    "\n",
    "inline = [\n",
    "\n",
    "\"echo 'hello world' >> index.txt\",\n",
    "\n",
    "]\n",
    "\n",
    "}\n",
    "\n",
    "tags {\n",
    "\n",
    "Name = \"remote_provisioner_2\"\n",
    "\n",
    "}\n",
    "\n",
    "}"
   ]
  },
  {
   "cell_type": "markdown",
   "metadata": {},
   "source": [
    "#### step3) output.tf 생성\n",
    "\n",
    "output \"public_ip\" {\n",
    "\n",
    "value = \"${aws_instance.remote_provisioner_2.public_ip}\n",
    "\n",
    "}"
   ]
  },
  {
   "cell_type": "markdown",
   "metadata": {},
   "source": [
    "#### step4) .tf 스크립트 확인 및 플러그인 설치, 인스턴스 실제 생성\n",
    "\n",
    "$ terraform init\n",
    "\n",
    "$ terraform plan\n",
    "\n",
    "$ terraform apply -auto-approv"
   ]
  },
  {
   "cell_type": "markdown",
   "metadata": {},
   "source": [
    "#### step5) 인스턴스 접속\n",
    "\n",
    "$ ssh -i ~/.ssh/dss_key ubuntu@(생성한 인스턴스 아이피주소)\n",
    "\n",
    "#### step6) index.txt 확인\n",
    "\n",
    "$ cd /\n",
    "\n",
    "$ cat index.txt"
   ]
  },
  {
   "cell_type": "markdown",
   "metadata": {},
   "source": [
    "#### step7) 인스턴스 삭제\n",
    "\n",
    "$ terraform destroy -auto-approve"
   ]
  }
 ],
 "metadata": {
  "kernelspec": {
   "display_name": "virtualenv",
   "language": "python",
   "name": "virtualenv"
  },
  "language_info": {
   "codemirror_mode": {
    "name": "ipython",
    "version": 3
   },
   "file_extension": ".py",
   "mimetype": "text/x-python",
   "name": "python",
   "nbconvert_exporter": "python",
   "pygments_lexer": "ipython3",
   "version": "3.6.8"
  }
 },
 "nbformat": 4,
 "nbformat_minor": 2
}
