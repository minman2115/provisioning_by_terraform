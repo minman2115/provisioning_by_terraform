{
 "cells": [
  {
   "cell_type": "markdown",
   "metadata": {},
   "source": [
    "#### 그림, 실습코드 등 학습자료 출처 : https://gitlab.com/radajin"
   ]
  },
  {
   "cell_type": "markdown",
   "metadata": {},
   "source": [
    "#### # user_data를 이용한 로컬 프로비저너 사용예시"
   ]
  },
  {
   "cell_type": "markdown",
   "metadata": {},
   "source": [
    "#### step1) 디렉토리 생성 및 이동\n",
    "\n",
    "$ mkdir -p ~/python3/provisioning/07_remote_provisioner\n",
    "\n",
    "$ cd ~/python3/provisioning/07_remote_provisioner"
   ]
  },
  {
   "cell_type": "markdown",
   "metadata": {},
   "source": [
    "#### step2) 생성한 키와 보안그룹이 있다면 다 삭제\n",
    "\n",
    "#### step3) main.tf 작성\n",
    "\n",
    "- default security_group을 추가해줘야 user_data 사용가능\n",
    "\n",
    "- 생성한 security_group에 22번 포트가 있어야 접속가능\n",
    "\n",
    "data \"aws_security_group\" \"default\" {\n",
    "\n",
    "name = \"default\"\n",
    "\n",
    "}\n",
    "\n",
    "data \"aws_security_group\" \"security_dss\" {\n",
    "\n",
    "name = \"security_dss\"\n",
    "\n",
    "}\n",
    "\n",
    "provider \"aws\" {\n",
    "\n",
    "region = \"ap-northeast-2\"\n",
    "\n",
    "}\n",
    "\n",
    "resource \"aws_instance\" \"dss_remote_provisioner\" {\n",
    "\n",
    "ami = \"ami-06e7b9c5e0c4dd014\"\n",
    "\n",
    "instance_type = \"t2.nano\"\n",
    "\n",
    "key_name = \"dss_key\"\n",
    "\n",
    "vpc_security_group_ids = [\n",
    "\n",
    "\"${data.aws_security_group.default.id}\",\n",
    "\n",
    "\"${aws_security_group.security_dss.id}\"\n",
    "\n",
    "]\n",
    "\n",
    "`# root 권한으로 실행됨 (최상위 디렉토리에서 실행)`\n",
    "\n",
    "user_data = <<EOF\n",
    "\n",
    "`#!/bin/bash`\n",
    "\n",
    "echo \"Hello, World\" > index.txt\n",
    "\n",
    "EOF\n",
    "\n",
    "tags {\n",
    "\n",
    "Name = \"dss_remote_provisioner\" `# 인스턴스 이름`\n",
    "\n",
    "}\n",
    "\n",
    "}"
   ]
  },
  {
   "cell_type": "markdown",
   "metadata": {},
   "source": [
    "#### step4) output.tf 작성\n",
    "\n",
    "output \"public_ip\" {\n",
    "\n",
    "value = \"${aws_instance.dss_remote_provisioner.public_ip}\n",
    "\n",
    "}"
   ]
  },
  {
   "cell_type": "markdown",
   "metadata": {},
   "source": [
    "#### step5) .tf 스크립트 확인 및 플러그인 설치, 인스턴스 실제 생성\n",
    "\n",
    "$ terraform init\n",
    "\n",
    "$ terraform plan\n",
    "\n",
    "$ terraform apply -auto-approv"
   ]
  },
  {
   "cell_type": "markdown",
   "metadata": {},
   "source": [
    "#### step6) 인스턴스 접속\n",
    "\n",
    "$ ssh -i ~/.ssh/dss_key ubuntu@(생성한 인스턴스 아이피주소)\n",
    "\n",
    "#### step7) index.txt 확인\n",
    "\n",
    "$ cd /\n",
    "\n",
    "$ cat index.txt"
   ]
  }
 ],
 "metadata": {
  "kernelspec": {
   "display_name": "Python 3",
   "language": "python",
   "name": "python3"
  },
  "language_info": {
   "codemirror_mode": {
    "name": "ipython",
    "version": 3
   },
   "file_extension": ".py",
   "mimetype": "text/x-python",
   "name": "python",
   "nbconvert_exporter": "python",
   "pygments_lexer": "ipython3",
   "version": "3.7.3"
  }
 },
 "nbformat": 4,
 "nbformat_minor": 2
}
