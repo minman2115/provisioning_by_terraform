{
 "cells": [
  {
   "cell_type": "markdown",
   "metadata": {},
   "source": [
    "### # 간단한 EC2 인스턴스 생성"
   ]
  },
  {
   "cell_type": "markdown",
   "metadata": {},
   "source": [
    "#### step1) 디렉토리 생성 및 이동\n",
    "\n",
    "$ mkdir -p ~/python3/provisioning/03_simple_ec2\n",
    "\n",
    "$ cd ~/python3/provisioning/03_simple_ec2"
   ]
  },
  {
   "cell_type": "markdown",
   "metadata": {},
   "source": [
    "#### step2) 앞서 생성했던 keypair와 security_group을 다시 생성\n",
    "\n",
    "#### step3) main.tf 생성\n",
    "\n",
    "- vi main.tf 입력 후 아래와 같이 코드를 작성\n",
    "\n",
    "provider \"aws\" {\n",
    "\n",
    "region = \"ap-northeast-2\" # Seoul\n",
    "\n",
    "}\n",
    "\n",
    "data \"aws_security_group\" \"security_dss\" {\n",
    "\n",
    "name = \"security_dss\"\n",
    "\n",
    "}\n",
    "\n",
    "resource \"aws_instance\" \"dss-ec2\" {\n",
    "\n",
    "ami = \"ami-06e7b9c5e0c4dd014\"\n",
    "\n",
    "instance_type = \"t2.nano\"\n",
    "\n",
    "key_name = \"dss_key\"\n",
    "\n",
    "vpc_security_group_ids = [\n",
    "\n",
    "\"${data.aws_security_group.security_dss.id}\"\n",
    "\n",
    "]\n",
    "\n",
    "tags {\n",
    "\n",
    "Name = \"dss_instance\"\n",
    "\n",
    "}\n",
    "\n",
    "}"
   ]
  },
  {
   "cell_type": "markdown",
   "metadata": {},
   "source": [
    "#### step4) .tf 스크립트 확인 및 플러그인 설치\n",
    "\n",
    "$ terraform init\n",
    "\n",
    "$ terraform plan "
   ]
  },
  {
   "cell_type": "markdown",
   "metadata": {},
   "source": [
    "#### step5) 실제 실행 : 인스턴스 생성\n",
    "\n",
    "- 아래와 같이 명령어를 입력한다.\n",
    "\n",
    "terraform apply -auto-approve\n",
    "\n",
    "참고로 위와 같이 auto-approve 옵션을 추가하면 인스턴스 생성시 yes 를 입력하지 않아도 된다.\n",
    "\n",
    "- 중간에 yes를 입력해야 생성된다.\n",
    "- 실행 후 인스턴스가 생성되었는지 확인\n",
    "- 인스턴스에 dss_key가 적용되었는지 확인\n",
    "- 인스턴스에 default security_group이 적용되었는지 확인"
   ]
  },
  {
   "cell_type": "markdown",
   "metadata": {},
   "source": [
    "#### step6) 생성한 인스턴스에 접속해보기\n",
    "\n",
    "'ssh -i ~/.ssh/dss_key ubuntu@(생성한 인스턴스 아이피)' 명령어 실행"
   ]
  },
  {
   "cell_type": "markdown",
   "metadata": {},
   "source": [
    "#### step7) 생성한 인스턴스 삭제\n",
    "\n",
    "'terraform destroy -auto-approve' 명령어 입력 후 실행"
   ]
  }
 ],
 "metadata": {
  "kernelspec": {
   "display_name": "virtualenv",
   "language": "python",
   "name": "virtualenv"
  },
  "language_info": {
   "codemirror_mode": {
    "name": "ipython",
    "version": 3
   },
   "file_extension": ".py",
   "mimetype": "text/x-python",
   "name": "python",
   "nbconvert_exporter": "python",
   "pygments_lexer": "ipython3",
   "version": "3.6.8"
  }
 },
 "nbformat": 4,
 "nbformat_minor": 2
}
