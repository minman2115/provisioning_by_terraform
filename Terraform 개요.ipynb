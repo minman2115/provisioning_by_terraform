{
 "cells": [
  {
   "cell_type": "markdown",
   "metadata": {},
   "source": [
    "### # 정의\n",
    "\n",
    "> Terraform is a tool for building, changing, and versioning infrastructure safely and efficiently."
   ]
  },
  {
   "cell_type": "markdown",
   "metadata": {},
   "source": [
    "테라폼은 인프라를 생성하고 관리하는 도구이다. \n",
    "테라폼은 크게 4가지 기능을 제공한다."
   ]
  },
  {
   "cell_type": "markdown",
   "metadata": {},
   "source": [
    "- Infrastructure as Code\n",
    "- Execution Plans\n",
    "- Resource Graph\n",
    "- Change Automation"
   ]
  },
  {
   "cell_type": "markdown",
   "metadata": {},
   "source": [
    "통상 '데이터 사이언스'에서는 딥러닝 등의 모델 구현 시 모델을 fitting하거나 하이퍼파라미터 모수를 찾을 때 쓰인다. 사용하는 대략적인 방법은 AWS에서 서버를 생성하고, 모델 구현을 위해 필요한 패키지를 설치하고, 우리가 필요한 fitting이나 하이퍼파라미터 모수를 찾아서 결과까지 보여주는 일련의 과정을 프로그램 코드파일 하나로 해결할 수 있다. "
   ]
  },
  {
   "cell_type": "markdown",
   "metadata": {},
   "source": [
    "### # 테라폼 기본개념\n"
   ]
  },
  {
   "cell_type": "markdown",
   "metadata": {},
   "source": [
    "- provisioning\n",
    "\n",
    "특정 프로세스를 실행하기 위한 준비 단계를 프로비저닝이라고 한다. 프로비저닝에는 크게 네트워크나 컴퓨팅 자원을 준비하는 작업과 준비된 컴퓨팅 자원에 특정 프로세스 실행을 위한 패키지 등을 설치하여 준비하는 단계로 나누어진다."
   ]
  },
  {
   "cell_type": "markdown",
   "metadata": {},
   "source": [
    "- resource\n",
    "\n",
    "특정 프로바이더가 제공해주는 조작 가능한 대상의 최소 단위입니다. 예를 들어 AWS 프로바이더는 aws_instance 리소스 타입을 제공하고, 이 리소스 타입을 사용해 Amazon EC2의 가상 머신 리소스를 선언하고 조작하는 것이 가능하다. EC2 인스턴스, 시큐리티 그룹, 키 페어 모두 aws 프로바이더가 제공해주는 리소스 타입이다."
   ]
  },
  {
   "cell_type": "markdown",
   "metadata": {},
   "source": [
    "- provider\n",
    "\n",
    "테라폼과 외부 서비스를 연결해주는 기능을 하는 모듈이다. 예를 들어 테라폼으로 AWS 서비스의 컴퓨팅 자원을 생성하기 위해서는 AWS 프로바이더를 먼저 셋업해야 한다. "
   ]
  },
  {
   "cell_type": "markdown",
   "metadata": {},
   "source": [
    "- plan\n",
    "\n",
    "테라폼 프로젝트 디렉터리 아래의 모든 .tf 파일의 내용을 실제로 적용 가능한지 확인하는 작업을 plan이라고 한다. 테라폼은 이를 terraform plan 명령어로 제공하며, 이 명령어를 실행하면 어떤 리소스가 생성되고, 수정되고, 파괴될지 계획을 보여준다."
   ]
  },
  {
   "cell_type": "markdown",
   "metadata": {},
   "source": [
    "- HCL(Hashicorp Configuration Language)\n",
    "\n",
    "테라폼에서 사용하는 설정 언어다. 테라폼에서 모든 설정과 리소스 선언은 HCL을 사용해 이루어진다. 테라폼에서 HCL 파일의 확장자는 .tf를 사용합니다."
   ]
  },
  {
   "cell_type": "markdown",
   "metadata": {},
   "source": [
    "- apply\n",
    "\n",
    "테라폼 프로젝트 디렉터리 아래의 모든 .tf 파일의 내용대로 리소스를 생성, 수정, 파괴하는 일을 말한다. 테라폼은 이를 terraform apply 명령어로 제공하는데 이 명령어를 실행하기 전에 변경 예정 사항은 plan 명령어를 사용해 확인할 수 있다."
   ]
  },
  {
   "cell_type": "markdown",
   "metadata": {},
   "source": [
    "### # 테라폼 사용을 위한 기본 명령어\n",
    "\n",
    "- terraform init\n",
    "    - 스크립트 확인 및 필요한 플러그인 설치\n",
    "\n",
    "- terraform plan\n",
    "    - 드라이‑런(dry‑run). 예상 실행 상황을 보여줌.\n",
    "\n",
    "- terraform apply\n",
    "    - 실제 실행\n",
    "    - 실행 중간에 yes 를 입력하면 실제 인스턴스가 생성.\n",
    "\n",
    "- terraform destroy\n",
    "    - 인프라스트럭처 삭제"
   ]
  }
 ],
 "metadata": {
  "kernelspec": {
   "display_name": "Python 3",
   "language": "python",
   "name": "python3"
  },
  "language_info": {
   "codemirror_mode": {
    "name": "ipython",
    "version": 3
   },
   "file_extension": ".py",
   "mimetype": "text/x-python",
   "name": "python",
   "nbconvert_exporter": "python",
   "pygments_lexer": "ipython3",
   "version": "3.7.1"
  }
 },
 "nbformat": 4,
 "nbformat_minor": 2
}
