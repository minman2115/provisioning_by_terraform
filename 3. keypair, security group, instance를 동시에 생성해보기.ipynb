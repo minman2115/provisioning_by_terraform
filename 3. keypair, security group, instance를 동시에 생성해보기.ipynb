{
 "cells": [
  {
   "cell_type": "markdown",
   "metadata": {},
   "source": [
    "### # keypair, security group, instance를 동시에 생성하기"
   ]
  },
  {
   "cell_type": "markdown",
   "metadata": {},
   "source": [
    "#### step 1) 디렉토리 생성 및 이동\n",
    "\n",
    "$ mkdir -p ~/python3/provisioning/04_keypair_security_group_ec2\n",
    "\n",
    "$ cd ~/python3/provisioning/04_keypair_security_group_ec2\n",
    "\n",
    "#### step 2) 앞서 생성했던 keypair와 security_group을 제거"
   ]
  },
  {
   "cell_type": "markdown",
   "metadata": {},
   "source": [
    "step 3) main.tf 작성\n",
    "\n",
    "provider \"aws\" {\n",
    "\n",
    "region = \"ap-northeast-2\" # Seoul\n",
    "\n",
    "}\n",
    "\n",
    "** 아래 코드는 key_pair를 test_key라는 이름으로 생성한다는 의미\n",
    "\n",
    "resource \"aws_key_pair\" \"dss_key\" {\n",
    "\n",
    "key_name = \"dss_key\"\n",
    "\n",
    "public_key = \"${file(\"~/.ssh/dss_key.pub\")}\"\n",
    "\n",
    "}\n",
    "\n",
    "** 아래코드는 ssh security_group을 생성\n",
    "resource \"aws_security_group\" \"dss-terraform\" {\n",
    "\n",
    "name = \"security_dss\"\n",
    "\n",
    "description = \"Allow SSH port from all\"\n",
    "\n",
    "ingress {\n",
    "\n",
    "from_port = 22\n",
    "\n",
    "to_port = 22\n",
    "\n",
    "protocol = \"tcp\"\n",
    "\n",
    "cidr_blocks = [\"0.0.0.0/0\"]\n",
    "\n",
    "}\n",
    "\n",
    "ingress {\n",
    "\n",
    "from_port = 80\n",
    "\n",
    "to_port = 80\n",
    "\n",
    "protocol = \"tcp\"\n",
    "\n",
    "cidr_blocks = [\"0.0.0.0/0\"]\n",
    "\n",
    "}\n",
    "\n",
    "ingress {\n",
    "\n",
    "from_port = 8888\n",
    "\n",
    "to_port = 8888\n",
    "\n",
    "protocol = \"tcp\"\n",
    "\n",
    "cidr_blocks = [\"0.0.0.0/0\"]\n",
    "\n",
    "}\n",
    "\n",
    "ingress {\n",
    "\n",
    "from_port = 8080\n",
    "\n",
    "to_port = 8080\n",
    "\n",
    "protocol = \"tcp\"\n",
    "\n",
    "cidr_blocks = [\"0.0.0.0/0\"]\n",
    "\n",
    "}\n",
    "\n",
    "}\n",
    "\n",
    "resource \"aws_instance\" \"dss-ec2\" {\n",
    "\n",
    "ami = \"ami-06e7b9c5e0c4dd014\"\n",
    "\n",
    "instance_type = \"t2.nano\"\n",
    "\n",
    "key_name = \"${aws_key_pair.dss_key.key_name}\"\n",
    "\n",
    "vpc_security_group_ids = [\n",
    "\n",
    "** 아래 코드는 ssh security_group을 적용한다는 의미\n",
    "\n",
    "\"${aws_security_group.dss-terraform.id}\"\n",
    "\n",
    "]\n",
    "\n",
    "tags {\n",
    "\n",
    "** 아래 코드는 인스턴스 이름을 의미\n",
    "\n",
    "Name = \"dss_instance\"\n",
    "\n",
    "}\n",
    "}"
   ]
  },
  {
   "cell_type": "markdown",
   "metadata": {},
   "source": [
    "#### step4) .tf 스크립트 확인 및 플러그인 설치, 인스턴스 실제 생성\n",
    "\n",
    "$ terraform init\n",
    "\n",
    "$ terraform plan\n",
    "\n",
    "$ terraform apply -auto-approve"
   ]
  },
  {
   "cell_type": "markdown",
   "metadata": {},
   "source": [
    "#### step 5) 키페어, 보안그룹, ec2가 잘 생성되었는지 확인한다.\n",
    "\n",
    "- ssh 접속으로 생성한 인스턴스 정상접속여부 확인\n",
    "\n",
    "$ ssh -i ~/.ssh/dss_key ubuntu@(생성한 인스턴스 아이피주소)"
   ]
  },
  {
   "cell_type": "markdown",
   "metadata": {},
   "source": [
    "#### step 6) 생성한 인스턴스 삭제\n",
    "\n",
    "terraform destroy -auto-approve"
   ]
  }
 ],
 "metadata": {
  "kernelspec": {
   "display_name": "virtualenv",
   "language": "python",
   "name": "virtualenv"
  },
  "language_info": {
   "codemirror_mode": {
    "name": "ipython",
    "version": 3
   },
   "file_extension": ".py",
   "mimetype": "text/x-python",
   "name": "python",
   "nbconvert_exporter": "python",
   "pygments_lexer": "ipython3",
   "version": "3.6.8"
  }
 },
 "nbformat": 4,
 "nbformat_minor": 2
}
