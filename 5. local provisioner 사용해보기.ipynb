{
 "cells": [
  {
   "cell_type": "markdown",
   "metadata": {},
   "source": [
    "#### 그림, 실습코드 등 학습자료 출처 : https://gitlab.com/radajin"
   ]
  },
  {
   "cell_type": "markdown",
   "metadata": {},
   "source": [
    "#### step1) ec2 생성후 생성된 public ip를 ip_address.txt로 저장\n",
    "\n",
    "#### step2) 앞서 생성했던 keypair와 security_group을 다시 생성\n",
    "\n",
    "#### step3) 디렉토리 생성 및 이동\n",
    "\n",
    "$ mkdir -p ~/python3/provisioning/06_local_provisioner\n",
    "\n",
    "$ cd ~/python3/provisioning/06_local_provisioner"
   ]
  },
  {
   "cell_type": "markdown",
   "metadata": {},
   "source": [
    "#### step4) main.tf 생성\n",
    "\n",
    "provider \"aws\" {\n",
    "\n",
    "region = \"ap-northeast-2\" # Seoul\n",
    "\n",
    "}\n",
    "\n",
    "data \"aws_security_group\" \"security_dss\" {\n",
    "\n",
    "name = \"security_dss\"\n",
    "\n",
    "}\n",
    "\n",
    "resource \"aws_instance\" \"dss_local_provisioner\" {\n",
    "\n",
    "ami = \"ami-06e7b9c5e0c4dd014\"\n",
    "\n",
    "instance_type = \"t2.nano\"\n",
    "\n",
    "key_name = \"dss_key\"\n",
    "\n",
    "vpc_security_group_ids = [\n",
    "\n",
    "\"${data.aws_security_group.security_dss.id}\"\n",
    "\n",
    "]\n",
    "\n",
    "provisioner \"local-exec\" {\n",
    "\n",
    "command =\n",
    "\n",
    "\"echo \\\n",
    "\n",
    "${aws_instance.dss_local_provisioner.public_ip} \\\n",
    "\n",
    "`> public_ip.txt\"`\n",
    "\n",
    "}\n",
    "\n",
    "tags {\n",
    "\n",
    "Name = \"dss_local_provisioner\"\n",
    "\n",
    "}\n",
    "\n",
    "}"
   ]
  },
  {
   "cell_type": "markdown",
   "metadata": {},
   "source": [
    "#### ** 위 코드에서 참고사항\n",
    "\n",
    "- 여러개의 커멘트를 실행해야 하는 경우 아래와 같이 수정 후 실행\n",
    "\n",
    "provisioner \"local-exec\" {\n",
    "\n",
    "command = <<EOF\n",
    "\n",
    "echo ${aws_instance.dss-ec2.public_ip} > public_ip.txt\n",
    "\n",
    "echo ${aws_instance.dss-ec2.private_ip} > private_ip.txt\n",
    "\n",
    "EOF\n",
    "\n",
    "}\n",
    "\n",
    "- terraform.tfstate 파일 삭제후 실행해야 수정된 내용이 적용"
   ]
  },
  {
   "cell_type": "markdown",
   "metadata": {},
   "source": [
    "#### step5) .tf 스크립트 확인 및 플러그인 설치, 인스턴스 실제 생성\n",
    "\n",
    "$ terraform init\n",
    "\n",
    "$ terraform plan\n",
    "\n",
    "$ terraform apply -auto-approve"
   ]
  },
  {
   "cell_type": "markdown",
   "metadata": {},
   "source": [
    "#### step6) 로컬에 ip 주소 파일이 생성되었는지 확인\n",
    "\n",
    "$ cat public_ip.txt\n",
    "\n",
    "(생성된 아이피 주소 출력)"
   ]
  },
  {
   "cell_type": "markdown",
   "metadata": {},
   "source": [
    "#### step7) 테라폼 콘솔로 변수 확인\n",
    "\n",
    "$ terraform console\n",
    "\n",
    "`> aws_instance.dss-ec2.public_ip`\n",
    "\n",
    "(생성된 아이피 주소 출력)"
   ]
  },
  {
   "cell_type": "markdown",
   "metadata": {},
   "source": [
    "#### step 8) 생성한 인스턴스 삭제\n",
    "\n",
    "terraform destroy -auto-approve"
   ]
  }
 ],
 "metadata": {
  "kernelspec": {
   "display_name": "Python 3",
   "language": "python",
   "name": "python3"
  },
  "language_info": {
   "codemirror_mode": {
    "name": "ipython",
    "version": 3
   },
   "file_extension": ".py",
   "mimetype": "text/x-python",
   "name": "python",
   "nbconvert_exporter": "python",
   "pygments_lexer": "ipython3",
   "version": "3.7.3"
  }
 },
 "nbformat": 4,
 "nbformat_minor": 2
}
