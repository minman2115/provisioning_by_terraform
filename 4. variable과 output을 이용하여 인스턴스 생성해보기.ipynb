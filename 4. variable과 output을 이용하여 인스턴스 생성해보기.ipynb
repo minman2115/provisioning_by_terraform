{
 "cells": [
  {
   "cell_type": "markdown",
   "metadata": {},
   "source": [
    "#### 그림, 실습코드 등 학습자료 출처 : https://gitlab.com/radajin"
   ]
  },
  {
   "cell_type": "markdown",
   "metadata": {},
   "source": [
    "#### step1) 디렉토리 생성 및 이동\n",
    "\n",
    "$ mkdir -p ~/python3/provisioning/05_vars_output\n",
    "\n",
    "$ cd ~/python3/provisioning/05_vars_output"
   ]
  },
  {
   "cell_type": "markdown",
   "metadata": {},
   "source": [
    "#### step2) vars.tf 생성 및 코드 작성\n",
    "\n",
    "variable \"server_port\" {\n",
    "\n",
    "description = \"server_port\"\n",
    "\n",
    "default = 8080\n",
    "\n",
    "}\n",
    "\n",
    "variable \"ami\" {\n",
    "\n",
    "type = \"map\"\n",
    "\n",
    "default = {\n",
    "\n",
    "ubuntu = \"ami-06e7b9c5e0c4dd014\"\n",
    "\n",
    "}\n",
    "\n",
    "}"
   ]
  },
  {
   "cell_type": "markdown",
   "metadata": {},
   "source": [
    "#### step3) terraform console에서 선언된 변수 확인\n",
    "\n",
    "$ terraform console\n",
    "\n",
    "-> var.server_port\n",
    "\n",
    "8080\n",
    "\n",
    "-> var.ami[\"ubuntu\"]\n",
    "\n",
    "ami-06e7b9c5e0c4dd014"
   ]
  },
  {
   "cell_type": "markdown",
   "metadata": {},
   "source": [
    "#### step4) vars.tf 생성 및 코드 작성\n",
    "\n",
    "provider \"aws\" {\n",
    "\n",
    "region = \"ap-northeast-2\"\n",
    "\n",
    "}\n",
    "\n",
    "resource \"aws_security_group\" \"dss_sg\" {\n",
    "\n",
    "name = \"dss_sg\"\n",
    "\n",
    "ingress {\n",
    "\n",
    "from_port = \"${var.server_port}\"\n",
    "\n",
    "to_port = \"${var.server_port}\"\n",
    "\n",
    "protocol = \"tcp\"\n",
    "\n",
    "cidr_blocks = [\n",
    "\n",
    "\"0.0.0.0/0\",\n",
    "\n",
    "]\n",
    "\n",
    "}\n",
    "\n",
    "}\n",
    "\n",
    "resource \"aws_instance\" \"vars_output\" {\n",
    "\n",
    "ami = \"${var.ami[\"ubuntu\"]}\"\n",
    "\n",
    "instance_type = \"t2.nano\"\n",
    "\n",
    "vpc_security_group_ids = [\n",
    "\n",
    "\"${aws_security_group.dss_sg.id}\"\n",
    "\n",
    "]\n",
    "\n",
    "tags {\n",
    "\n",
    "Name = \"dss_vars_output\"\n",
    "\n",
    "}\n",
    "\n",
    "}"
   ]
  },
  {
   "cell_type": "markdown",
   "metadata": {},
   "source": [
    "#### step5) output.tf 생성 및 코드 작성\n",
    "\n",
    "output \"public_ip\" {\n",
    "\n",
    "value = \"${aws_instance.vars_output.public_ip}\"\n",
    "\n",
    "}"
   ]
  },
  {
   "cell_type": "markdown",
   "metadata": {},
   "source": [
    "#### step6) .tf 스크립트 확인 및 플러그인 설치, 인스턴스 실제 생성\n",
    "\n",
    "$ terraform init\n",
    "\n",
    "$ terraform plan\n",
    "\n",
    "$ terraform apply -auto-approve"
   ]
  },
  {
   "cell_type": "markdown",
   "metadata": {},
   "source": [
    "#### step 7) 인스턴스 생성 후 output 변수가 잘 출력되었는지 확인\n",
    "\n",
    "#### step 8) 생성한 인스턴스 삭제\n",
    "\n",
    "terraform destroy -auto-approve"
   ]
  }
 ],
 "metadata": {
  "kernelspec": {
   "display_name": "Python 3",
   "language": "python",
   "name": "python3"
  },
  "language_info": {
   "codemirror_mode": {
    "name": "ipython",
    "version": 3
   },
   "file_extension": ".py",
   "mimetype": "text/x-python",
   "name": "python",
   "nbconvert_exporter": "python",
   "pygments_lexer": "ipython3",
   "version": "3.7.3"
  }
 },
 "nbformat": 4,
 "nbformat_minor": 2
}
